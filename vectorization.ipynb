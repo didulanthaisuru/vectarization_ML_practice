{
 "cells": [
  {
   "cell_type": "code",
   "id": "initial_id",
   "metadata": {
    "collapsed": true,
    "ExecuteTime": {
     "end_time": "2024-10-05T10:02:57.530208Z",
     "start_time": "2024-10-05T10:02:57.378716Z"
    }
   },
   "source": [
    "import numpy as np\n",
    "import time "
   ],
   "outputs": [],
   "execution_count": 1
  },
  {
   "metadata": {
    "ExecuteTime": {
     "end_time": "2024-10-05T10:10:18.659157Z",
     "start_time": "2024-10-05T10:10:18.654616Z"
    }
   },
   "cell_type": "code",
   "source": "a=np.zeros(4)",
   "id": "513337a34ee1b882",
   "outputs": [],
   "execution_count": 2
  },
  {
   "metadata": {
    "ExecuteTime": {
     "end_time": "2024-10-05T10:15:44.650825Z",
     "start_time": "2024-10-05T10:15:44.644762Z"
    }
   },
   "cell_type": "code",
   "source": [
    "a = np.zeros(4);                \n",
    "print(f\"np.zeros(4) :   a = {a}, a shape = {a.shape}, a data type = {a.dtype}\")\n",
    "a = np.zeros((4,5));             \n",
    "print(f\"np.zeros(4,5) :  a = {a}, a shape = {a.shape}, a data type = {a.dtype}\")\n",
    "a = np.random.random_sample(4); \n",
    "print(f\"np.random.random_sample(4): a = {a}, a shape = {a.shape}, a data type = {a.dtype}\")"
   ],
   "id": "b984898ebd600231",
   "outputs": [
    {
     "name": "stdout",
     "output_type": "stream",
     "text": [
      "np.zeros(4) :   a = [0. 0. 0. 0.], a shape = (4,), a data type = float64\n",
      "np.zeros(4,5) :  a = [[0. 0. 0. 0. 0.]\n",
      " [0. 0. 0. 0. 0.]\n",
      " [0. 0. 0. 0. 0.]\n",
      " [0. 0. 0. 0. 0.]], a shape = (4, 5), a data type = float64\n",
      "np.random.random_sample(4): a = [0.54985035 0.09017825 0.32372681 0.17927952], a shape = (4,), a data type = float64\n"
     ]
    }
   ],
   "execution_count": 8
  },
  {
   "metadata": {
    "ExecuteTime": {
     "end_time": "2024-10-05T10:20:20.745587Z",
     "start_time": "2024-10-05T10:20:20.736951Z"
    }
   },
   "cell_type": "code",
   "source": [
    "# NumPy routines which allocate memory and fill arrays with value but do not accept shape as input argument\n",
    "a = np.arange(4.);              print(f\"np.arange(4.):     a = {a}, a shape = {a.shape}, a data type = {a.dtype}\")\n",
    "a = np.random.rand(4);          print(f\"np.random.rand(4): a = {a}, a shape = {a.shape}, a data type = {a.dtype}\")"
   ],
   "id": "787ee06a3041fa26",
   "outputs": [
    {
     "name": "stdout",
     "output_type": "stream",
     "text": [
      "np.arange(4.):     a = [0. 1. 2. 3.], a shape = (4,), a data type = float64\n",
      "np.random.rand(4): a = [0.29421407 0.56925032 0.88269034 0.33506892], a shape = (4,), a data type = float64\n"
     ]
    }
   ],
   "execution_count": 9
  },
  {
   "metadata": {
    "ExecuteTime": {
     "end_time": "2024-10-05T10:25:30.446328Z",
     "start_time": "2024-10-05T10:25:30.437285Z"
    }
   },
   "cell_type": "code",
   "source": [
    "# NumPy routines which allocate memory and fill with user specified values\n",
    "a = np.array([5,4,3,2]);  print(f\"np.array([5,4,3,2]):  a = {a},     a shape = {a.shape}, a data type = {a.dtype}\")\n",
    "a = np.array([5.,4,3,2]); print(f\"np.array([5.,4,3,2]): a = {a}, a shape = {a.shape}, a data type = {a.dtype}\")"
   ],
   "id": "ace8d3ec2d4a3aa6",
   "outputs": [
    {
     "name": "stdout",
     "output_type": "stream",
     "text": [
      "np.array([5,4,3,2]):  a = [5 4 3 2],     a shape = (4,), a data type = int32\n",
      "np.array([5.,4,3,2]): a = [5. 4. 3. 2.], a shape = (4,), a data type = float64\n"
     ]
    }
   ],
   "execution_count": 10
  },
  {
   "metadata": {
    "ExecuteTime": {
     "end_time": "2024-10-05T10:26:19.189637Z",
     "start_time": "2024-10-05T10:26:19.181082Z"
    }
   },
   "cell_type": "code",
   "source": [
    "#vector indexing operations on 1-D vectors\n",
    "a = np.arange(10)\n",
    "print(a)\n",
    "\n",
    "#access an element\n",
    "print(f\"a[2].shape: {a[2].shape} a[2]  = {a[2]}, Accessing an element returns a scalar\")\n",
    "\n",
    "# access the last element, negative indexes count from the end\n",
    "print(f\"a[-1] = {a[-1]}\")\n",
    "\n",
    "#indexs must be within the range of the vector or they will produce and error\n",
    "try:\n",
    "    c = a[10]\n",
    "except Exception as e:\n",
    "    print(\"The error message you'll see is:\")\n",
    "    print(e)"
   ],
   "id": "4fa77679ff979d8a",
   "outputs": [
    {
     "name": "stdout",
     "output_type": "stream",
     "text": [
      "[0 1 2 3 4 5 6 7 8 9]\n",
      "a[2].shape: () a[2]  = 2, Accessing an element returns a scalar\n",
      "a[-1] = 9\n",
      "The error message you'll see is:\n",
      "index 10 is out of bounds for axis 0 with size 10\n"
     ]
    }
   ],
   "execution_count": 11
  },
  {
   "metadata": {
    "ExecuteTime": {
     "end_time": "2024-10-05T10:28:37.545550Z",
     "start_time": "2024-10-05T10:28:37.539855Z"
    }
   },
   "cell_type": "code",
   "source": [
    "a=np.arange(10)\n",
    "print(a)"
   ],
   "id": "4b8d41dd907c25da",
   "outputs": [
    {
     "name": "stdout",
     "output_type": "stream",
     "text": [
      "[0 1 2 3 4 5 6 7 8 9]\n"
     ]
    }
   ],
   "execution_count": 12
  },
  {
   "metadata": {
    "ExecuteTime": {
     "end_time": "2024-10-05T10:28:53.038759Z",
     "start_time": "2024-10-05T10:28:53.019836Z"
    }
   },
   "cell_type": "code",
   "source": "a[2]",
   "id": "4a9a9f03ba918029",
   "outputs": [
    {
     "data": {
      "text/plain": [
       "2"
      ]
     },
     "execution_count": 13,
     "metadata": {},
     "output_type": "execute_result"
    }
   ],
   "execution_count": 13
  },
  {
   "metadata": {
    "ExecuteTime": {
     "end_time": "2024-10-05T10:29:04.707109Z",
     "start_time": "2024-10-05T10:29:04.701183Z"
    }
   },
   "cell_type": "code",
   "source": "a[2].shape",
   "id": "e522f7efb97cdb43",
   "outputs": [
    {
     "data": {
      "text/plain": [
       "()"
      ]
     },
     "execution_count": 14,
     "metadata": {},
     "output_type": "execute_result"
    }
   ],
   "execution_count": 14
  },
  {
   "metadata": {
    "ExecuteTime": {
     "end_time": "2024-10-05T10:29:18.105077Z",
     "start_time": "2024-10-05T10:29:18.099740Z"
    }
   },
   "cell_type": "code",
   "source": "a[-1]",
   "id": "eddaec72745496f7",
   "outputs": [
    {
     "data": {
      "text/plain": [
       "9"
      ]
     },
     "execution_count": 15,
     "metadata": {},
     "output_type": "execute_result"
    }
   ],
   "execution_count": 15
  },
  {
   "metadata": {
    "ExecuteTime": {
     "end_time": "2024-10-05T10:29:40.212601Z",
     "start_time": "2024-10-05T10:29:40.208843Z"
    }
   },
   "cell_type": "code",
   "source": "a=np.arange(10)",
   "id": "b5a667d36421dcf6",
   "outputs": [],
   "execution_count": 16
  },
  {
   "metadata": {
    "ExecuteTime": {
     "end_time": "2024-10-05T10:29:47.516036Z",
     "start_time": "2024-10-05T10:29:47.511795Z"
    }
   },
   "cell_type": "code",
   "source": "print(a)",
   "id": "59e8abbe9f3c18e0",
   "outputs": [
    {
     "name": "stdout",
     "output_type": "stream",
     "text": [
      "[0 1 2 3 4 5 6 7 8 9]\n"
     ]
    }
   ],
   "execution_count": 17
  },
  {
   "metadata": {
    "ExecuteTime": {
     "end_time": "2024-10-05T10:30:09.306713Z",
     "start_time": "2024-10-05T10:30:09.300739Z"
    }
   },
   "cell_type": "code",
   "source": "c=a[2:7:1]",
   "id": "f29516e230cfd733",
   "outputs": [],
   "execution_count": 18
  },
  {
   "metadata": {
    "ExecuteTime": {
     "end_time": "2024-10-05T10:30:12.499494Z",
     "start_time": "2024-10-05T10:30:12.494927Z"
    }
   },
   "cell_type": "code",
   "source": "print(c)",
   "id": "7d45b24c7e169efc",
   "outputs": [
    {
     "name": "stdout",
     "output_type": "stream",
     "text": [
      "[2 3 4 5 6]\n"
     ]
    }
   ],
   "execution_count": 19
  },
  {
   "metadata": {
    "ExecuteTime": {
     "end_time": "2024-10-05T10:30:25.950248Z",
     "start_time": "2024-10-05T10:30:25.944885Z"
    }
   },
   "cell_type": "code",
   "source": [
    "c=a[2:7:2]\n",
    "print(c)"
   ],
   "id": "6a82fa512fd59a3c",
   "outputs": [
    {
     "name": "stdout",
     "output_type": "stream",
     "text": [
      "[2 4 6]\n"
     ]
    }
   ],
   "execution_count": 20
  },
  {
   "metadata": {
    "ExecuteTime": {
     "end_time": "2024-10-05T10:30:48.135824Z",
     "start_time": "2024-10-05T10:30:48.131184Z"
    }
   },
   "cell_type": "code",
   "source": "c=a[3:]",
   "id": "8a8aac1d9145d79b",
   "outputs": [],
   "execution_count": 21
  },
  {
   "metadata": {
    "ExecuteTime": {
     "end_time": "2024-10-05T10:30:50.662108Z",
     "start_time": "2024-10-05T10:30:50.657900Z"
    }
   },
   "cell_type": "code",
   "source": "print(c)",
   "id": "74e985e3fe0d2d4d",
   "outputs": [
    {
     "name": "stdout",
     "output_type": "stream",
     "text": [
      "[3 4 5 6 7 8 9]\n"
     ]
    }
   ],
   "execution_count": 22
  },
  {
   "metadata": {
    "ExecuteTime": {
     "end_time": "2024-10-05T10:31:12.196121Z",
     "start_time": "2024-10-05T10:31:12.190550Z"
    }
   },
   "cell_type": "code",
   "source": "c=a[::2]",
   "id": "b1fe6eec5a2604c7",
   "outputs": [],
   "execution_count": 23
  },
  {
   "metadata": {
    "ExecuteTime": {
     "end_time": "2024-10-05T10:31:14.373727Z",
     "start_time": "2024-10-05T10:31:14.370015Z"
    }
   },
   "cell_type": "code",
   "source": "print(c)",
   "id": "21006d3b4de213ff",
   "outputs": [
    {
     "name": "stdout",
     "output_type": "stream",
     "text": [
      "[0 2 4 6 8]\n"
     ]
    }
   ],
   "execution_count": 24
  },
  {
   "metadata": {
    "ExecuteTime": {
     "end_time": "2024-10-05T10:33:28.318401Z",
     "start_time": "2024-10-05T10:33:28.313747Z"
    }
   },
   "cell_type": "code",
   "source": "c=a[:3]",
   "id": "ed42c797b4035f86",
   "outputs": [],
   "execution_count": 25
  },
  {
   "metadata": {
    "ExecuteTime": {
     "end_time": "2024-10-05T10:33:33.511426Z",
     "start_time": "2024-10-05T10:33:33.506348Z"
    }
   },
   "cell_type": "code",
   "source": "print(c)",
   "id": "ec87dc33565c84b7",
   "outputs": [
    {
     "name": "stdout",
     "output_type": "stream",
     "text": [
      "[0 1 2]\n"
     ]
    }
   ],
   "execution_count": 26
  },
  {
   "metadata": {
    "ExecuteTime": {
     "end_time": "2024-10-05T10:33:50.752759Z",
     "start_time": "2024-10-05T10:33:50.745939Z"
    }
   },
   "cell_type": "code",
   "source": "c=a[:]",
   "id": "d62279fe2459731f",
   "outputs": [],
   "execution_count": 27
  },
  {
   "metadata": {
    "ExecuteTime": {
     "end_time": "2024-10-05T10:33:56.281466Z",
     "start_time": "2024-10-05T10:33:56.275839Z"
    }
   },
   "cell_type": "code",
   "source": "print(c)",
   "id": "c74f232e73c9ab8d",
   "outputs": [
    {
     "name": "stdout",
     "output_type": "stream",
     "text": [
      "[0 1 2 3 4 5 6 7 8 9]\n"
     ]
    }
   ],
   "execution_count": 28
  },
  {
   "metadata": {
    "ExecuteTime": {
     "end_time": "2024-10-05T10:36:30.419980Z",
     "start_time": "2024-10-05T10:36:30.415110Z"
    }
   },
   "cell_type": "code",
   "source": "a=np.array([1,2,3,4])",
   "id": "aeed8a193856925d",
   "outputs": [],
   "execution_count": 29
  },
  {
   "metadata": {
    "ExecuteTime": {
     "end_time": "2024-10-05T10:36:53.495099Z",
     "start_time": "2024-10-05T10:36:53.490070Z"
    }
   },
   "cell_type": "code",
   "source": "b=np.array([-1,-2,-3,-4])",
   "id": "2be4c5300b567745",
   "outputs": [],
   "execution_count": 30
  },
  {
   "metadata": {
    "ExecuteTime": {
     "end_time": "2024-10-05T10:37:09.411217Z",
     "start_time": "2024-10-05T10:37:09.405167Z"
    }
   },
   "cell_type": "code",
   "source": "c=a+b",
   "id": "217c1ad6ce49edeb",
   "outputs": [],
   "execution_count": 31
  },
  {
   "metadata": {
    "ExecuteTime": {
     "end_time": "2024-10-05T10:37:13.830852Z",
     "start_time": "2024-10-05T10:37:13.826196Z"
    }
   },
   "cell_type": "code",
   "source": "print(c)",
   "id": "d00f4cc7bfbe2e67",
   "outputs": [
    {
     "name": "stdout",
     "output_type": "stream",
     "text": [
      "[0 0 0 0]\n"
     ]
    }
   ],
   "execution_count": 32
  },
  {
   "metadata": {
    "ExecuteTime": {
     "end_time": "2024-10-05T10:37:41.098871Z",
     "start_time": "2024-10-05T10:37:41.092502Z"
    }
   },
   "cell_type": "code",
   "source": [
    "#try a mismatched vector operation\n",
    "c = np.array([1, 2])\n",
    "try:\n",
    "    d = a + c\n",
    "except Exception as e:\n",
    "    print(\"The error message you'll see is:\")\n",
    "    print(e)"
   ],
   "id": "43604eec6552940d",
   "outputs": [
    {
     "name": "stdout",
     "output_type": "stream",
     "text": [
      "The error message you'll see is:\n",
      "operands could not be broadcast together with shapes (4,) (2,) \n"
     ]
    }
   ],
   "execution_count": 33
  },
  {
   "metadata": {
    "ExecuteTime": {
     "end_time": "2024-10-05T10:43:37.552299Z",
     "start_time": "2024-10-05T10:43:37.542018Z"
    }
   },
   "cell_type": "code",
   "source": [
    "a=np.array([1,2,3,4])\n",
    "b=5*a"
   ],
   "id": "5b0ed4f7f72763db",
   "outputs": [],
   "execution_count": 34
  },
  {
   "metadata": {
    "ExecuteTime": {
     "end_time": "2024-10-05T10:43:44.885532Z",
     "start_time": "2024-10-05T10:43:44.880336Z"
    }
   },
   "cell_type": "code",
   "source": "print(b)",
   "id": "9486aaeeaf1d3faf",
   "outputs": [
    {
     "name": "stdout",
     "output_type": "stream",
     "text": [
      "[ 5 10 15 20]\n"
     ]
    }
   ],
   "execution_count": 35
  },
  {
   "metadata": {
    "ExecuteTime": {
     "end_time": "2024-10-05T10:44:12.068609Z",
     "start_time": "2024-10-05T10:44:12.058989Z"
    }
   },
   "cell_type": "code",
   "source": [
    "def my_dot(a, b): \n",
    "    \"\"\"\n",
    "   Compute the dot product of two vectors\n",
    " \n",
    "    Args:\n",
    "      a (ndarray (n,)):  input vector \n",
    "      b (ndarray (n,)):  input vector with same dimension as a\n",
    "    \n",
    "    Returns:\n",
    "      x (scalar): \n",
    "    \"\"\"\n",
    "    x=0\n",
    "    for i in range(a.shape[0]):\n",
    "        x = x + a[i] * b[i]\n",
    "    return x"
   ],
   "id": "2da35a8f4054bd9d",
   "outputs": [],
   "execution_count": 36
  },
  {
   "metadata": {
    "ExecuteTime": {
     "end_time": "2024-10-05T10:45:06.170341Z",
     "start_time": "2024-10-05T10:45:06.160362Z"
    }
   },
   "cell_type": "code",
   "source": [
    "# test 1-D\n",
    "a = np.array([1, 2, 3, 4])\n",
    "b = np.array([-1, 4, 3, 2])\n",
    "print(f\"my_dot(a, b) = {my_dot(a, b)}\")\n",
    "k=np.dot(a,b)\n",
    "print(k)"
   ],
   "id": "9b79bbad33d3f225",
   "outputs": [
    {
     "name": "stdout",
     "output_type": "stream",
     "text": [
      "my_dot(a, b) = 24\n",
      "24\n"
     ]
    }
   ],
   "execution_count": 37
  },
  {
   "metadata": {
    "ExecuteTime": {
     "end_time": "2024-10-05T10:45:50.056854Z",
     "start_time": "2024-10-05T10:45:50.050221Z"
    }
   },
   "cell_type": "code",
   "source": [
    "# test 1-D\n",
    "a = np.array([1, 2, 3, 4])\n",
    "b = np.array([-1, 4, 3, 2])\n",
    "c = np.dot(a, b)\n",
    "print(f\"NumPy 1-D np.dot(a, b) = {c}, np.dot(a, b).shape = {c.shape} \") \n",
    "c = np.dot(b, a)\n",
    "print(f\"NumPy 1-D np.dot(b, a) = {c}, np.dot(a, b).shape = {c.shape} \")\n"
   ],
   "id": "615c540298d3599f",
   "outputs": [
    {
     "name": "stdout",
     "output_type": "stream",
     "text": [
      "NumPy 1-D np.dot(a, b) = 24, np.dot(a, b).shape = () \n",
      "NumPy 1-D np.dot(b, a) = 24, np.dot(a, b).shape = () \n"
     ]
    }
   ],
   "execution_count": 38
  },
  {
   "metadata": {
    "ExecuteTime": {
     "end_time": "2024-10-05T10:55:37.697845Z",
     "start_time": "2024-10-05T10:55:34.871148Z"
    }
   },
   "cell_type": "code",
   "source": [
    "np.random.seed(1)\n",
    "a = np.random.rand(10000000)  # very large arrays\n",
    "b = np.random.rand(10000000)\n",
    "\n",
    "tic = time.time()  # capture start time\n",
    "c = np.dot(a, b)\n",
    "toc = time.time()  # capture end time\n",
    "\n",
    "print(f\"np.dot(a, b) =  {c:.4f}\")\n",
    "print(f\"Vectorized version duration: {1000*(toc-tic):.4f} ms \")\n",
    "\n",
    "tic = time.time()  # capture start time\n",
    "c = my_dot(a,b)\n",
    "toc = time.time()  # capture end time\n",
    "\n",
    "print(f\"my_dot(a, b) =  {c:.4f}\")\n",
    "print(f\"loop version duration: {1000*(toc-tic):.4f} ms \")\n",
    "\n",
    "del(a);del(b)  #remove these big arrays from memory"
   ],
   "id": "64dd40f5d5b3a78d",
   "outputs": [
    {
     "name": "stdout",
     "output_type": "stream",
     "text": [
      "np.dot(a, b) =  2501072.5817\n",
      "Vectorized version duration: 78.2380 ms \n",
      "my_dot(a, b) =  2501072.5817\n",
      "loop version duration: 2544.0462 ms \n"
     ]
    }
   ],
   "execution_count": 39
  },
  {
   "metadata": {},
   "cell_type": "code",
   "outputs": [],
   "execution_count": null,
   "source": "",
   "id": "4f986804b7b9ea40"
  }
 ],
 "metadata": {
  "kernelspec": {
   "display_name": "Python 3",
   "language": "python",
   "name": "python3"
  },
  "language_info": {
   "codemirror_mode": {
    "name": "ipython",
    "version": 2
   },
   "file_extension": ".py",
   "mimetype": "text/x-python",
   "name": "python",
   "nbconvert_exporter": "python",
   "pygments_lexer": "ipython2",
   "version": "2.7.6"
  }
 },
 "nbformat": 4,
 "nbformat_minor": 5
}
