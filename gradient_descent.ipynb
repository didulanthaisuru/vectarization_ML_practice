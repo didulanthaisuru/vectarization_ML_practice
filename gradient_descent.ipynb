{
 "cells": [
  {
   "cell_type": "code",
   "id": "initial_id",
   "metadata": {
    "collapsed": true,
    "ExecuteTime": {
     "end_time": "2024-10-04T08:39:38.087190Z",
     "start_time": "2024-10-04T08:39:38.083072Z"
    }
   },
   "source": [
    "import math, copy\n",
    "import numpy as np\n",
    "import matplotlib.pyplot as plt"
   ],
   "outputs": [],
   "execution_count": 2
  },
  {
   "metadata": {
    "ExecuteTime": {
     "end_time": "2024-10-04T08:46:26.970097Z",
     "start_time": "2024-10-04T08:46:26.966316Z"
    }
   },
   "cell_type": "code",
   "source": [
    "x_train=np.array([1.0,2.0])\n",
    "y_train=np.array([300.0,500.0])"
   ],
   "id": "b11f43174c06d3f9",
   "outputs": [],
   "execution_count": 3
  },
  {
   "metadata": {
    "ExecuteTime": {
     "end_time": "2024-10-04T08:51:28.024275Z",
     "start_time": "2024-10-04T08:51:28.019409Z"
    }
   },
   "cell_type": "code",
   "source": [
    "def compute_cost(x,y,w,b):\n",
    "    m=x.shape[0]\n",
    "    cost=0\n",
    "    for i in range(m):\n",
    "        f_wb=w*x[i]+b\n",
    "        cost=cost+(f_wb-y[i])**2\n",
    "    total_cost=1/(2*m)*cost\n",
    "    return total_cost"
   ],
   "id": "8ea1af8f11dd0921",
   "outputs": [],
   "execution_count": 4
  },
  {
   "metadata": {
    "ExecuteTime": {
     "end_time": "2024-10-04T10:29:47.074131Z",
     "start_time": "2024-10-04T10:29:47.009702Z"
    }
   },
   "cell_type": "code",
   "source": [
    "def compute_gradient(x,y,w,b):\n",
    "    m=x.shape[0]\n",
    "    dj_dw=0\n",
    "    dj_db=0\n",
    "    \n",
    "    for i in range(m):\n",
    "        f_wb=w*x[i]+b\n",
    "        dj_dw_i=(f_wb-y[i])*x[i]\n",
    "        dj_db_i=f_wb-y[i]\n",
    "        dj_db+=dj_db_i\n",
    "        dj_dw+=dj_dw_i\n",
    "    dj_dw=dj_dw/m\n",
    "    dj_db=dj_db/m\n",
    "    return dj_dw,dj_db"
   ],
   "id": "a83a055465d0befc",
   "outputs": [],
   "execution_count": 5
  },
  {
   "metadata": {
    "ExecuteTime": {
     "end_time": "2024-10-04T10:30:26.795109Z",
     "start_time": "2024-10-04T10:30:26.507513Z"
    }
   },
   "cell_type": "code",
   "source": [
    "plt_gradients(x_train,y_train, compute_cost, compute_gradient)\n",
    "plt.show()"
   ],
   "id": "8c0eca7611bc6d8b",
   "outputs": [
    {
     "ename": "NameError",
     "evalue": "name 'plt_gradients' is not defined",
     "output_type": "error",
     "traceback": [
      "\u001B[1;31m---------------------------------------------------------------------------\u001B[0m",
      "\u001B[1;31mNameError\u001B[0m                                 Traceback (most recent call last)",
      "Cell \u001B[1;32mIn[6], line 1\u001B[0m\n\u001B[1;32m----> 1\u001B[0m plt_gradients(x_train,y_train, compute_cost, compute_gradient)\n\u001B[0;32m      2\u001B[0m plt\u001B[38;5;241m.\u001B[39mshow()\n",
      "\u001B[1;31mNameError\u001B[0m: name 'plt_gradients' is not defined"
     ]
    }
   ],
   "execution_count": 6
  },
  {
   "metadata": {
    "ExecuteTime": {
     "end_time": "2024-10-04T10:42:44.069733Z",
     "start_time": "2024-10-04T10:42:44.047536Z"
    }
   },
   "cell_type": "code",
   "source": [
    "def gradient_descent(x,y,w_in,b_in,alpha,num_iter,cost_function,compute_gradient):\n",
    "    j_history=[]\n",
    "    p_history=[]\n",
    "    w=w_in\n",
    "    b=b_in\n",
    "    \n",
    "    for i in range(num_iter):\n",
    "        dj_dw,dj_db=compute_gradient(x,y,w,b)\n",
    "        \n",
    "        w=w-alpha*dj_dw\n",
    "        b=b-alpha*dj_db\n",
    "        \n",
    "        if i<100000:\n",
    "            j_history.append(cost_function(x,y,w,b))\n",
    "            p_history.append([w,b])\n",
    "            \n",
    "        if i%math.ceil(num_iter/10)==0:\n",
    "            print(f\"Iteration {i:4}: Cost {J_history[-1]:0.2e} \",\n",
    "                  f\"dj_dw: {dj_dw: 0.3e}, dj_db: {dj_db: 0.3e}  \",\n",
    "                  f\"w: {w: 0.3e}, b:{b: 0.5e}\")\n",
    "    return w,b,j_history,p_history"
   ],
   "id": "b495ead366e59582",
   "outputs": [],
   "execution_count": 7
  },
  {
   "metadata": {},
   "cell_type": "code",
   "outputs": [],
   "execution_count": null,
   "source": "",
   "id": "29f080f1e5a973a4"
  }
 ],
 "metadata": {
  "kernelspec": {
   "display_name": "Python 3",
   "language": "python",
   "name": "python3"
  },
  "language_info": {
   "codemirror_mode": {
    "name": "ipython",
    "version": 2
   },
   "file_extension": ".py",
   "mimetype": "text/x-python",
   "name": "python",
   "nbconvert_exporter": "python",
   "pygments_lexer": "ipython2",
   "version": "2.7.6"
  }
 },
 "nbformat": 4,
 "nbformat_minor": 5
}
