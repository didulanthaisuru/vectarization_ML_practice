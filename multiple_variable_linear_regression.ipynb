{
 "cells": [
  {
   "cell_type": "code",
   "id": "initial_id",
   "metadata": {
    "collapsed": true,
    "ExecuteTime": {
     "end_time": "2024-10-06T08:38:27.331641Z",
     "start_time": "2024-10-06T08:38:26.340368Z"
    }
   },
   "source": [
    "import copy,math\n",
    "import numpy as np\n",
    "import matplotlib.pyplot as plt\n",
    "np.set_printoptions(precision=2)"
   ],
   "outputs": [],
   "execution_count": 1
  },
  {
   "metadata": {
    "ExecuteTime": {
     "end_time": "2024-10-06T08:59:02.976304Z",
     "start_time": "2024-10-06T08:59:02.964851Z"
    }
   },
   "cell_type": "code",
   "source": [
    "x_train=np.array([[2104,5,1,45],[1416,3,2,40],[852,2,1,35]])\n",
    "y_train=np.array([460,232,178])"
   ],
   "id": "d64aa70c4099b1bc",
   "outputs": [],
   "execution_count": 7
  },
  {
   "metadata": {
    "ExecuteTime": {
     "end_time": "2024-10-06T08:59:04.157024Z",
     "start_time": "2024-10-06T08:59:04.148962Z"
    }
   },
   "cell_type": "code",
   "source": "x_train.shape",
   "id": "366557163cb284fe",
   "outputs": [
    {
     "data": {
      "text/plain": [
       "(3, 4)"
      ]
     },
     "execution_count": 8,
     "metadata": {},
     "output_type": "execute_result"
    }
   ],
   "execution_count": 8
  },
  {
   "metadata": {
    "ExecuteTime": {
     "end_time": "2024-10-06T08:59:05.972084Z",
     "start_time": "2024-10-06T08:59:05.964074Z"
    }
   },
   "cell_type": "code",
   "source": "y_train.shape",
   "id": "d240f7c69de1aec8",
   "outputs": [
    {
     "data": {
      "text/plain": [
       "(3,)"
      ]
     },
     "execution_count": 9,
     "metadata": {},
     "output_type": "execute_result"
    }
   ],
   "execution_count": 9
  },
  {
   "metadata": {
    "ExecuteTime": {
     "end_time": "2024-10-06T08:59:06.916693Z",
     "start_time": "2024-10-06T08:59:06.909717Z"
    }
   },
   "cell_type": "code",
   "source": "print(x_train)",
   "id": "4ad022693ae5b7e2",
   "outputs": [
    {
     "name": "stdout",
     "output_type": "stream",
     "text": [
      "[[2104    5    1   45]\n",
      " [1416    3    2   40]\n",
      " [ 852    2    1   35]]\n"
     ]
    }
   ],
   "execution_count": 10
  },
  {
   "metadata": {
    "ExecuteTime": {
     "end_time": "2024-10-06T08:59:08.275936Z",
     "start_time": "2024-10-06T08:59:08.268003Z"
    }
   },
   "cell_type": "code",
   "source": "print(y_train)",
   "id": "3cb13a839f5fd349",
   "outputs": [
    {
     "name": "stdout",
     "output_type": "stream",
     "text": [
      "[460 232 178]\n"
     ]
    }
   ],
   "execution_count": 11
  },
  {
   "metadata": {
    "ExecuteTime": {
     "end_time": "2024-10-06T09:01:40.550275Z",
     "start_time": "2024-10-06T09:01:40.538760Z"
    }
   },
   "cell_type": "code",
   "source": [
    "b_init=785.1811367994083\n",
    "w_init=np.array([0.39133535,18.75376741,-53.36032453,-26.42131618])"
   ],
   "id": "fe47838e486ec6ee",
   "outputs": [],
   "execution_count": 12
  },
  {
   "metadata": {
    "ExecuteTime": {
     "end_time": "2024-10-06T09:01:55.545447Z",
     "start_time": "2024-10-06T09:01:55.540455Z"
    }
   },
   "cell_type": "code",
   "source": "print(w_init)",
   "id": "5124d2c1772a6736",
   "outputs": [
    {
     "name": "stdout",
     "output_type": "stream",
     "text": [
      "[  0.39  18.75 -53.36 -26.42]\n"
     ]
    }
   ],
   "execution_count": 13
  },
  {
   "metadata": {
    "ExecuteTime": {
     "end_time": "2024-10-06T09:02:11.178169Z",
     "start_time": "2024-10-06T09:02:11.170704Z"
    }
   },
   "cell_type": "code",
   "source": "w_init.shape",
   "id": "ee642761b87764a5",
   "outputs": [
    {
     "data": {
      "text/plain": [
       "(4,)"
      ]
     },
     "execution_count": 14,
     "metadata": {},
     "output_type": "execute_result"
    }
   ],
   "execution_count": 14
  },
  {
   "metadata": {
    "ExecuteTime": {
     "end_time": "2024-10-06T09:02:28.543342Z",
     "start_time": "2024-10-06T09:02:28.534787Z"
    }
   },
   "cell_type": "code",
   "source": "type(b_init)",
   "id": "b0bf3041ca9c9add",
   "outputs": [
    {
     "data": {
      "text/plain": [
       "float"
      ]
     },
     "execution_count": 15,
     "metadata": {},
     "output_type": "execute_result"
    }
   ],
   "execution_count": 15
  },
  {
   "metadata": {
    "ExecuteTime": {
     "end_time": "2024-10-06T09:11:46.383910Z",
     "start_time": "2024-10-06T09:11:46.374568Z"
    }
   },
   "cell_type": "code",
   "source": [
    "def predict_single_loop(x,w,b):\n",
    "    n=x.shape[0]\n",
    "    p=0\n",
    "    for i in range(n):\n",
    "        p_i=x[i]*w[i]\n",
    "        p=p+p_i\n",
    "    p=p+b\n",
    "    return p"
   ],
   "id": "fbd08711f236ef81",
   "outputs": [],
   "execution_count": 16
  },
  {
   "metadata": {
    "ExecuteTime": {
     "end_time": "2024-10-06T09:16:22.332213Z",
     "start_time": "2024-10-06T09:16:22.323179Z"
    }
   },
   "cell_type": "code",
   "source": "print(x_train)",
   "id": "24c4521787af44ee",
   "outputs": [
    {
     "name": "stdout",
     "output_type": "stream",
     "text": [
      "[[2104    5    1   45]\n",
      " [1416    3    2   40]\n",
      " [ 852    2    1   35]]\n"
     ]
    }
   ],
   "execution_count": 17
  },
  {
   "metadata": {
    "ExecuteTime": {
     "end_time": "2024-10-06T09:18:47.272928Z",
     "start_time": "2024-10-06T09:18:47.265872Z"
    }
   },
   "cell_type": "code",
   "source": [
    "x_vec=x_train[0,:]\n",
    "print(x_vec)"
   ],
   "id": "7498b8d6947cbc7e",
   "outputs": [
    {
     "name": "stdout",
     "output_type": "stream",
     "text": [
      "[2104    5    1   45]\n"
     ]
    }
   ],
   "execution_count": 34
  },
  {
   "metadata": {
    "ExecuteTime": {
     "end_time": "2024-10-06T09:19:45.636202Z",
     "start_time": "2024-10-06T09:19:45.624208Z"
    }
   },
   "cell_type": "code",
   "source": "x_train.shape",
   "id": "b85d4d3c97e16328",
   "outputs": [
    {
     "data": {
      "text/plain": [
       "(3, 4)"
      ]
     },
     "execution_count": 35,
     "metadata": {},
     "output_type": "execute_result"
    }
   ],
   "execution_count": 35
  },
  {
   "metadata": {
    "ExecuteTime": {
     "end_time": "2024-10-06T09:19:58.253935Z",
     "start_time": "2024-10-06T09:19:58.246492Z"
    }
   },
   "cell_type": "code",
   "source": "x_vec.shape",
   "id": "61a67281f77c6795",
   "outputs": [
    {
     "data": {
      "text/plain": [
       "(4,)"
      ]
     },
     "execution_count": 36,
     "metadata": {},
     "output_type": "execute_result"
    }
   ],
   "execution_count": 36
  },
  {
   "metadata": {
    "ExecuteTime": {
     "end_time": "2024-10-06T09:24:40.008997Z",
     "start_time": "2024-10-06T09:24:39.996966Z"
    }
   },
   "cell_type": "code",
   "source": [
    "f_wb=predict_single_loop(x_vec,w_init,b_init)\n",
    "print(f_wb)"
   ],
   "id": "7d57414d0a5bf0d5",
   "outputs": [
    {
     "name": "stdout",
     "output_type": "stream",
     "text": [
      "459.9999976194083\n"
     ]
    }
   ],
   "execution_count": 37
  },
  {
   "metadata": {
    "ExecuteTime": {
     "end_time": "2024-10-06T09:27:55.893930Z",
     "start_time": "2024-10-06T09:27:55.887963Z"
    }
   },
   "cell_type": "code",
   "source": [
    "def predict(x,w,b):\n",
    "    p=np.dot(x,w)+b\n",
    "    return p"
   ],
   "id": "ff5783a45e8a9030",
   "outputs": [],
   "execution_count": 39
  },
  {
   "metadata": {
    "ExecuteTime": {
     "end_time": "2024-10-06T09:31:45.750453Z",
     "start_time": "2024-10-06T09:31:45.739349Z"
    }
   },
   "cell_type": "code",
   "source": "print(x_vec)",
   "id": "e1c11d212573b485",
   "outputs": [
    {
     "name": "stdout",
     "output_type": "stream",
     "text": [
      "[2104    5    1   45]\n"
     ]
    }
   ],
   "execution_count": 40
  },
  {
   "metadata": {
    "ExecuteTime": {
     "end_time": "2024-10-06T09:36:34.077895Z",
     "start_time": "2024-10-06T09:36:34.062800Z"
    }
   },
   "cell_type": "code",
   "source": "f_wb=predict(x_vec,w_init,b_init)",
   "id": "7226efad5e80382c",
   "outputs": [],
   "execution_count": 41
  },
  {
   "metadata": {
    "ExecuteTime": {
     "end_time": "2024-10-06T09:36:37.095593Z",
     "start_time": "2024-10-06T09:36:37.088641Z"
    }
   },
   "cell_type": "code",
   "source": "print(f_wb)",
   "id": "98895a3324b69eeb",
   "outputs": [
    {
     "name": "stdout",
     "output_type": "stream",
     "text": [
      "459.9999976194083\n"
     ]
    }
   ],
   "execution_count": 42
  },
  {
   "metadata": {
    "ExecuteTime": {
     "end_time": "2024-10-06T09:44:36.869745Z",
     "start_time": "2024-10-06T09:44:36.847118Z"
    }
   },
   "cell_type": "code",
   "source": [
    "def compute_cost(x,y,w,b):\n",
    "    m=x.shape[0]\n",
    "    cost=0.0\n",
    "    for i in range(m):\n",
    "        f_wb_i=np.dot(x[i],w)+b\n",
    "        cost=cost+(f_wb_i-y[i])**2\n",
    "    cost=cost/(2*m)\n",
    "    return cost"
   ],
   "id": "742ccf629e2bb4d1",
   "outputs": [],
   "execution_count": 43
  },
  {
   "metadata": {
    "ExecuteTime": {
     "end_time": "2024-10-06T09:45:10.268560Z",
     "start_time": "2024-10-06T09:45:10.257923Z"
    }
   },
   "cell_type": "code",
   "source": "cost=compute_cost(x_train,y_train,w_init,b_init)",
   "id": "583e3e87acf1b199",
   "outputs": [],
   "execution_count": 44
  },
  {
   "metadata": {
    "ExecuteTime": {
     "end_time": "2024-10-06T09:45:16.191961Z",
     "start_time": "2024-10-06T09:45:16.184137Z"
    }
   },
   "cell_type": "code",
   "source": "print(cost)",
   "id": "40cbb44d51e6f346",
   "outputs": [
    {
     "name": "stdout",
     "output_type": "stream",
     "text": [
      "1.5578904045996674e-12\n"
     ]
    }
   ],
   "execution_count": 45
  },
  {
   "metadata": {
    "ExecuteTime": {
     "end_time": "2024-10-06T10:05:34.945933Z",
     "start_time": "2024-10-06T10:05:34.921721Z"
    }
   },
   "cell_type": "code",
   "source": [
    "def compute_gradient(X,y,w,b):\n",
    "    m,n=X.shape\n",
    "    dj_dw=np.zeros((n,))\n",
    "    dj_db=0.\n",
    "    \n",
    "    for i in range(m):\n",
    "        err=(np.dot(X[i],w)+b)-y[i]\n",
    "        for j in range(n):\n",
    "            dj_dw[j]=dj_dw[j]+err*X[i,j]\n",
    "        dj_db=dj_db+err\n",
    "    dj_dw=dj_dw/m\n",
    "    dj_db=dj_db/m\n",
    "    \n",
    "    return dj_db,dj_dw\n",
    "    "
   ],
   "id": "876e7843ad773a18",
   "outputs": [],
   "execution_count": 46
  },
  {
   "metadata": {
    "ExecuteTime": {
     "end_time": "2024-10-06T10:07:35.360659Z",
     "start_time": "2024-10-06T10:07:35.345621Z"
    }
   },
   "cell_type": "code",
   "source": [
    "tmp_dj_db,tmp_dj_dw=compute_gradient(x_train,y_train,w_init,b_init)\n",
    "print(tmp_dj_db)\n",
    "print(tmp_dj_dw)"
   ],
   "id": "df75a2c7886f5e92",
   "outputs": [
    {
     "name": "stdout",
     "output_type": "stream",
     "text": [
      "-1.6739251122999121e-06\n",
      "[-2.73e-03 -6.27e-06 -2.22e-06 -6.92e-05]\n"
     ]
    }
   ],
   "execution_count": 47
  },
  {
   "metadata": {
    "ExecuteTime": {
     "end_time": "2024-10-06T10:18:19.855829Z",
     "start_time": "2024-10-06T10:18:19.844384Z"
    }
   },
   "cell_type": "code",
   "source": [
    "def gradient_descent(X,y,w_in,b_in,cost_function,gradient_function,alpha,num_iters):\n",
    "    J_history=[]\n",
    "    w=copy.deepcopy(w_in)\n",
    "    b=b_in\n",
    "    \n",
    "    for i in range(num_iters):\n",
    "        dj_db,dj_dw=gradient_function(X,y,w,b)\n",
    "        w=w-alpha*dj_dw\n",
    "        b=b-alpha*dj_db\n",
    "        if i<100000:\n",
    "            J_history.append(cost_function(X,y,w,b))\n",
    "            \n",
    "        if 1% math.ceil(num_iters/10)==0:\n",
    "            print(f\"iteration {i} cost is {J_history[i]}\")\n",
    "    return w,b,J_history"
   ],
   "id": "34271e6d90da31a0",
   "outputs": [],
   "execution_count": 51
  },
  {
   "metadata": {
    "ExecuteTime": {
     "end_time": "2024-10-06T10:18:21.442374Z",
     "start_time": "2024-10-06T10:18:21.379533Z"
    }
   },
   "cell_type": "code",
   "source": [
    "# initialize parameters\n",
    "initial_w = np.zeros_like(w_init)\n",
    "initial_b = 0.\n",
    "# some gradient descent settings\n",
    "iterations = 1000\n",
    "alpha = 5.0e-7\n",
    "# run gradient descent \n",
    "w_final, b_final, J_hist = gradient_descent(x_train, y_train, initial_w, initial_b,\n",
    "                                                    compute_cost, compute_gradient, \n",
    "                                                    alpha, iterations)\n",
    "print(f\"b,w found by gradient descent: {b_final:0.2f},{w_final} \")\n",
    "m,_ = x_train.shape\n",
    "for i in range(m):\n",
    "    print(f\"prediction: {np.dot(x_train[i], w_final) + b_final:0.2f}, target value: {y_train[i]}\")"
   ],
   "id": "a92560adb1aa39ea",
   "outputs": [
    {
     "name": "stdout",
     "output_type": "stream",
     "text": [
      "b,w found by gradient descent: -0.00,[ 0.2   0.   -0.01 -0.07] \n",
      "prediction: 426.19, target value: 460\n",
      "prediction: 286.17, target value: 232\n",
      "prediction: 171.47, target value: 178\n"
     ]
    }
   ],
   "execution_count": 52
  },
  {
   "metadata": {},
   "cell_type": "code",
   "outputs": [],
   "execution_count": null,
   "source": "",
   "id": "b23fc8b34968e736"
  }
 ],
 "metadata": {
  "kernelspec": {
   "display_name": "Python 3",
   "language": "python",
   "name": "python3"
  },
  "language_info": {
   "codemirror_mode": {
    "name": "ipython",
    "version": 2
   },
   "file_extension": ".py",
   "mimetype": "text/x-python",
   "name": "python",
   "nbconvert_exporter": "python",
   "pygments_lexer": "ipython2",
   "version": "2.7.6"
  }
 },
 "nbformat": 4,
 "nbformat_minor": 5
}
